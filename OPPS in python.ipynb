{
 "cells": [
  {
   "cell_type": "markdown",
   "id": "4a1f3e29",
   "metadata": {},
   "source": [
    "<font size ='5'> <b> OPPS IN PY<b/><font/>"
   ]
  },
  {
   "cell_type": "code",
   "execution_count": 35,
   "id": "817c058f",
   "metadata": {},
   "outputs": [],
   "source": [
    "class Car:\n",
    "    def __init__(self,price,enginetype,window):\n",
    "        self.price = price\n",
    "        self.enginetype = enginetype;\n",
    "        self.window = window\n",
    "        \n",
    "    def type_of(self,enginetype):\n",
    "        return 'This is a {} car'.format(enginetype)\n",
    "        \n",
    "        \n",
    "      "
   ]
  },
  {
   "cell_type": "code",
   "execution_count": 36,
   "id": "56ddcea7",
   "metadata": {},
   "outputs": [
    {
     "data": {
      "text/plain": [
       "'This is a petrol car'"
      ]
     },
     "execution_count": 36,
     "metadata": {},
     "output_type": "execute_result"
    }
   ],
   "source": [
    "car1 = Car(price = 100000,enginetype = 'petrol',window = 4)\n",
    "car1.price\n",
    "\n",
    "car2 = Car(100000,'desiel',4)\n",
    "car2.enginetype\n",
    "\n",
    "car1.type_of(car1.enginetype)"
   ]
  },
  {
   "cell_type": "markdown",
   "id": "b9f49808",
   "metadata": {},
   "source": [
    "<font size ='5'> <b> Exception Handling<b/><font/>"
   ]
  },
  {
   "cell_type": "markdown",
   "id": "f0a0e090",
   "metadata": {},
   "source": [
    "<font size ='5'> <b> Exception Handling<b/><font/>"
   ]
  },
  {
   "cell_type": "code",
   "execution_count": 37,
   "id": "a468bf9e",
   "metadata": {},
   "outputs": [
    {
     "ename": "NameError",
     "evalue": "name 'b' is not defined",
     "output_type": "error",
     "traceback": [
      "\u001b[1;31m---------------------------------------------------------------------------\u001b[0m",
      "\u001b[1;31mNameError\u001b[0m                                 Traceback (most recent call last)",
      "\u001b[1;32m<ipython-input-37-488068fe1e94>\u001b[0m in \u001b[0;36m<module>\u001b[1;34m\u001b[0m\n\u001b[1;32m----> 1\u001b[1;33m \u001b[0ma\u001b[0m\u001b[1;33m=\u001b[0m\u001b[0mb\u001b[0m\u001b[1;33m\u001b[0m\u001b[1;33m\u001b[0m\u001b[0m\n\u001b[0m",
      "\u001b[1;31mNameError\u001b[0m: name 'b' is not defined"
     ]
    }
   ],
   "source": [
    "a=b"
   ]
  },
  {
   "cell_type": "code",
   "execution_count": 52,
   "id": "4ec3a1ca",
   "metadata": {},
   "outputs": [
    {
     "name": "stdout",
     "output_type": "stream",
     "text": [
      "The user may not have defined the variable\n"
     ]
    }
   ],
   "source": [
    "try:\n",
    "    #code block where exception can occour\n",
    "    a=b\n",
    "    \n",
    "except NameError as ex1:\n",
    "    print(\"The user may not have defined the variable\")\n",
    "except Exception as ex:\n",
    "    print('Some exception may have occured' , ':',ex)"
   ]
  },
  {
   "cell_type": "code",
   "execution_count": 56,
   "id": "208f5103",
   "metadata": {},
   "outputs": [
    {
     "name": "stdout",
     "output_type": "stream",
     "text": [
      "Try to make data type similar\n"
     ]
    }
   ],
   "source": [
    "try:\n",
    "    a =5\n",
    "    b='5'\n",
    "    c= a+b\n",
    "    \n",
    "except NameError as ex1:\n",
    "    print(\"The user may not have defined the variable\")\n",
    "except TypeError:\n",
    "    print(\"Try to make data type similar\")\n",
    "except Exception as ex:\n",
    "    print('Some exception may have occured' , ':',ex)"
   ]
  },
  {
   "cell_type": "code",
   "execution_count": 62,
   "id": "31a258b2",
   "metadata": {},
   "outputs": [
    {
     "name": "stdout",
     "output_type": "stream",
     "text": [
      "Enetrt the number 1 :2\n",
      "Enter the number 2 :5\n",
      "No Exception got cauth every thihs worked sucessfully\n",
      "7\n",
      "10\n",
      "0.4\n",
      "The executtion is done\n"
     ]
    }
   ],
   "source": [
    "try:\n",
    "    a = int(input(\"Enetrt the number 1 :\"))\n",
    "    b= int(input(\"Enter the number 2 :\"))\n",
    "    c = a+b\n",
    "    d= a*b\n",
    "    e = a/b\n",
    "    \n",
    "    \n",
    "    \n",
    "except NameError as ex1:\n",
    "    print(\"The user may not have defined the variable\")\n",
    "except TypeError:\n",
    "    print(\"Try to make data type similar\")\n",
    "except Exception as ex:\n",
    "    print('Some exception may have occured' , ':',ex)\n",
    "\n",
    "else:\n",
    "    print(\"No Exception got cauth every thihs worked sucessfully\")\n",
    "    print(c)\n",
    "    print(d)\n",
    "    print(e)\n",
    "    \n",
    "finally:\n",
    "    print(\"The executtion is done\")"
   ]
  },
  {
   "cell_type": "code",
   "execution_count": 63,
   "id": "b100e03a",
   "metadata": {},
   "outputs": [
    {
     "name": "stdout",
     "output_type": "stream",
     "text": [
      "Enetrt the number 1 :4\n",
      "Enter the number 2 :0\n",
      "Some exception may have occured : division by zero\n",
      "The executtion is done\n"
     ]
    }
   ],
   "source": [
    "try:\n",
    "    a = int(input(\"Enetrt the number 1 :\"))\n",
    "    b= int(input(\"Enter the number 2 :\"))\n",
    "    c = a+b\n",
    "    d= a*b\n",
    "    e = a/b\n",
    "    \n",
    "    \n",
    "    \n",
    "except NameError as ex1:\n",
    "    print(\"The user may not have defined the variable\")\n",
    "except TypeError:\n",
    "    print(\"Try to make data type similar\")\n",
    "except Exception as ex:\n",
    "    print('Some exception may have occured' , ':',ex)\n",
    "\n",
    "else:\n",
    "    print(\"No Exception got cauth every thihs worked sucessfully\")\n",
    "    print(c)\n",
    "    print(d)\n",
    "    print(e)\n",
    "    \n",
    "finally:\n",
    "    print(\"The executtion is done\")"
   ]
  },
  {
   "cell_type": "markdown",
   "id": "15005275",
   "metadata": {},
   "source": [
    "<font size ='5'> <b> Custom Exception<b/><font/>"
   ]
  },
  {
   "cell_type": "code",
   "execution_count": 4,
   "id": "ae91209d",
   "metadata": {},
   "outputs": [],
   "source": [
    "class Error(Exception):\n",
    "    pass\n",
    "\n",
    "class dobException(Error):\n",
    "    pass"
   ]
  },
  {
   "cell_type": "code",
   "execution_count": 8,
   "id": "f163e94e",
   "metadata": {},
   "outputs": [
    {
     "name": "stdout",
     "output_type": "stream",
     "text": [
      "Enter the year of birth 1960\n",
      "Age is not valid\n"
     ]
    }
   ],
   "source": [
    "year = int(input(\"Enter the year of birth \"))\n",
    "age = 2021 - year\n",
    "try:\n",
    "    if age <= 30 and age>=20:\n",
    "        pass\n",
    "    else:\n",
    "        raise dobException\n",
    "\n",
    "except dobException:\n",
    "    print(\"Age is not valid\")\n",
    "\n",
    "    \n",
    "    "
   ]
  },
  {
   "cell_type": "markdown",
   "id": "c9985090",
   "metadata": {},
   "source": [
    "\n",
    "<font size ='5'> <b>Acess Modifiers<b/><font/>"
   ]
  },
  {
   "cell_type": "code",
   "execution_count": 10,
   "id": "921590bb",
   "metadata": {},
   "outputs": [],
   "source": [
    "#All the class variables are public\n",
    "# _ = protected\n",
    "class Car():\n",
    "    def __init__(self,price,enginetype,window):\n",
    "        self.price = price\n",
    "        self.enginetype = enginetype;\n",
    "        self.window = window"
   ]
  },
  {
   "cell_type": "code",
   "execution_count": 11,
   "id": "294a5dd9",
   "metadata": {},
   "outputs": [],
   "source": [
    "audi = Car(1000000,'desiel',4)"
   ]
  },
  {
   "cell_type": "code",
   "execution_count": 15,
   "id": "2bc6d613",
   "metadata": {},
   "outputs": [
    {
     "data": {
      "text/plain": [
       "['__class__',\n",
       " '__delattr__',\n",
       " '__dict__',\n",
       " '__dir__',\n",
       " '__doc__',\n",
       " '__eq__',\n",
       " '__format__',\n",
       " '__ge__',\n",
       " '__getattribute__',\n",
       " '__gt__',\n",
       " '__hash__',\n",
       " '__init__',\n",
       " '__init_subclass__',\n",
       " '__le__',\n",
       " '__lt__',\n",
       " '__module__',\n",
       " '__ne__',\n",
       " '__new__',\n",
       " '__reduce__',\n",
       " '__reduce_ex__',\n",
       " '__repr__',\n",
       " '__setattr__',\n",
       " '__sizeof__',\n",
       " '__str__',\n",
       " '__subclasshook__',\n",
       " '__weakref__',\n",
       " 'enginetype',\n",
       " 'price',\n",
       " 'window']"
      ]
     },
     "execution_count": 15,
     "metadata": {},
     "output_type": "execute_result"
    }
   ],
   "source": [
    "dir(audi)"
   ]
  },
  {
   "cell_type": "raw",
   "id": "8c0305d7",
   "metadata": {},
   "source": []
  },
  {
   "cell_type": "code",
   "execution_count": 12,
   "id": "7d7c14e5",
   "metadata": {},
   "outputs": [
    {
     "data": {
      "text/plain": [
       "<__main__.Car at 0x16dcef45a00>"
      ]
     },
     "execution_count": 12,
     "metadata": {},
     "output_type": "execute_result"
    }
   ],
   "source": [
    "audi #  0x16dcef45a00 - memory location"
   ]
  },
  {
   "cell_type": "code",
   "execution_count": 13,
   "id": "09021526",
   "metadata": {},
   "outputs": [],
   "source": [
    "##All class variables are protedted\n",
    "class Car():\n",
    "    def __init__(self,price,enginetype,window):\n",
    "        self._price = price\n",
    "        self._enginetype = enginetype;\n",
    "        self._window = window"
   ]
  },
  {
   "cell_type": "code",
   "execution_count": 16,
   "id": "d35a8a61",
   "metadata": {},
   "outputs": [],
   "source": [
    "audi = Car(10000,'Desiel',4)"
   ]
  },
  {
   "cell_type": "code",
   "execution_count": 17,
   "id": "937b6b3e",
   "metadata": {},
   "outputs": [
    {
     "data": {
      "text/plain": [
       "['__class__',\n",
       " '__delattr__',\n",
       " '__dict__',\n",
       " '__dir__',\n",
       " '__doc__',\n",
       " '__eq__',\n",
       " '__format__',\n",
       " '__ge__',\n",
       " '__getattribute__',\n",
       " '__gt__',\n",
       " '__hash__',\n",
       " '__init__',\n",
       " '__init_subclass__',\n",
       " '__le__',\n",
       " '__lt__',\n",
       " '__module__',\n",
       " '__ne__',\n",
       " '__new__',\n",
       " '__reduce__',\n",
       " '__reduce_ex__',\n",
       " '__repr__',\n",
       " '__setattr__',\n",
       " '__sizeof__',\n",
       " '__str__',\n",
       " '__subclasshook__',\n",
       " '__weakref__',\n",
       " '_enginetype',\n",
       " '_price',\n",
       " '_window']"
      ]
     },
     "execution_count": 17,
     "metadata": {},
     "output_type": "execute_result"
    }
   ],
   "source": [
    "dir(audi)"
   ]
  },
  {
   "cell_type": "markdown",
   "id": "b5d3b20f",
   "metadata": {},
   "source": [
    "<font size ='5'> <b>Inheritance<b/><font/>"
   ]
  },
  {
   "cell_type": "code",
   "execution_count": 12,
   "id": "ac0d2c20",
   "metadata": {},
   "outputs": [],
   "source": [
    "##Blue Print\n",
    "class Car:\n",
    "    def __init__(self,price,enginetype,window):\n",
    "        self.price = price\n",
    "        self.enginetype = enginetype;\n",
    "        self.window = window\n",
    "    def drive(self):\n",
    "        print(\"The person drives the car\")"
   ]
  },
  {
   "cell_type": "code",
   "execution_count": 13,
   "id": "09584857",
   "metadata": {},
   "outputs": [],
   "source": [
    "car = Car(10000,'desiel',4)"
   ]
  },
  {
   "cell_type": "code",
   "execution_count": 14,
   "id": "cd9940af",
   "metadata": {},
   "outputs": [
    {
     "data": {
      "text/plain": [
       "10000"
      ]
     },
     "execution_count": 14,
     "metadata": {},
     "output_type": "execute_result"
    }
   ],
   "source": [
    "car.price"
   ]
  },
  {
   "cell_type": "code",
   "execution_count": 19,
   "id": "40bcf197",
   "metadata": {},
   "outputs": [],
   "source": [
    "class Audi(Car):\n",
    "    def __init__(self,price,enginetype,window,enableai):\n",
    "        super().__init__(price,enginetype,window)\n",
    "        self.enableai = enableai\n",
    "    def selfdriving(self):\n",
    "        print(\"Audi supports self driving\")\n",
    "        "
   ]
  },
  {
   "cell_type": "code",
   "execution_count": 23,
   "id": "7aaaf581",
   "metadata": {},
   "outputs": [],
   "source": [
    "audiq7 = Audi(10000,\"Desiel\",4,True)"
   ]
  },
  {
   "cell_type": "code",
   "execution_count": 24,
   "id": "3efd14a5",
   "metadata": {},
   "outputs": [
    {
     "data": {
      "text/plain": [
       "10000"
      ]
     },
     "execution_count": 24,
     "metadata": {},
     "output_type": "execute_result"
    }
   ],
   "source": [
    "audiq7.price"
   ]
  },
  {
   "cell_type": "code",
   "execution_count": 25,
   "id": "885c8ef1",
   "metadata": {},
   "outputs": [
    {
     "data": {
      "text/plain": [
       "True"
      ]
     },
     "execution_count": 25,
     "metadata": {},
     "output_type": "execute_result"
    }
   ],
   "source": [
    "audiq7.enableai"
   ]
  },
  {
   "cell_type": "code",
   "execution_count": null,
   "id": "b47ee90f",
   "metadata": {},
   "outputs": [],
   "source": []
  }
 ],
 "metadata": {
  "kernelspec": {
   "display_name": "Python 3",
   "language": "python",
   "name": "python3"
  },
  "language_info": {
   "codemirror_mode": {
    "name": "ipython",
    "version": 3
   },
   "file_extension": ".py",
   "mimetype": "text/x-python",
   "name": "python",
   "nbconvert_exporter": "python",
   "pygments_lexer": "ipython3",
   "version": "3.8.8"
  }
 },
 "nbformat": 4,
 "nbformat_minor": 5
}
