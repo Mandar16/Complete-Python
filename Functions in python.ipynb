{
 "cells": [
  {
   "cell_type": "markdown",
   "id": "83ea4783",
   "metadata": {},
   "source": [
    "<font size =\"5\"><b> Python Functions<font/>"
   ]
  },
  {
   "cell_type": "code",
   "execution_count": 2,
   "id": "409061be",
   "metadata": {},
   "outputs": [
    {
     "name": "stdout",
     "output_type": "stream",
     "text": [
      "number is odd\n"
     ]
    }
   ],
   "source": [
    "num = 25\n",
    "if num%2 ==0:\n",
    "    print(\"number is even\")\n",
    "else:\n",
    "    print(\"number is odd\")"
   ]
  },
  {
   "cell_type": "code",
   "execution_count": 5,
   "id": "8a7825a2",
   "metadata": {},
   "outputs": [
    {
     "name": "stdout",
     "output_type": "stream",
     "text": [
      "number is even\n"
     ]
    }
   ],
   "source": [
    "def eveorodd(num):\n",
    "    if num%2 ==0:\n",
    "        print(\"number is even\")\n",
    "    else:\n",
    "        print(\"number is odd\")\n",
    "    \n",
    "num = 26\n",
    "eveorodd(num)"
   ]
  },
  {
   "cell_type": "code",
   "execution_count": 10,
   "id": "a86b5818",
   "metadata": {},
   "outputs": [],
   "source": [
    "#print vs return\n",
    "def hello_world():\n",
    "    #print('hello world')\n",
    "    return 'hello Welocome'"
   ]
  },
  {
   "cell_type": "code",
   "execution_count": 12,
   "id": "00d2a3c7",
   "metadata": {},
   "outputs": [
    {
     "data": {
      "text/plain": [
       "'hello Welocome'"
      ]
     },
     "execution_count": 12,
     "metadata": {},
     "output_type": "execute_result"
    }
   ],
   "source": [
    "a = hello_world()\n",
    "a"
   ]
  },
  {
   "cell_type": "code",
   "execution_count": 14,
   "id": "5e6d1df0",
   "metadata": {},
   "outputs": [],
   "source": [
    "def add(num1,num2):\n",
    "    return num1+num2\n"
   ]
  },
  {
   "cell_type": "code",
   "execution_count": 15,
   "id": "629bb6b7",
   "metadata": {},
   "outputs": [
    {
     "name": "stdout",
     "output_type": "stream",
     "text": [
      "35\n"
     ]
    }
   ],
   "source": [
    "print(add(25,10))"
   ]
  },
  {
   "cell_type": "code",
   "execution_count": 19,
   "id": "60a33c2b",
   "metadata": {},
   "outputs": [
    {
     "name": "stdout",
     "output_type": "stream",
     "text": [
      "My name isMandar and my age is 20\n"
     ]
    }
   ],
   "source": [
    "def hello(name,age=20):\n",
    "    print('My name is {} and my age is {}'.format(name,age))\n",
    "  \n",
    "\n",
    "hello('Mandar')"
   ]
  },
  {
   "cell_type": "code",
   "execution_count": 31,
   "id": "d2cb36a3",
   "metadata": {},
   "outputs": [],
   "source": [
    "def helllo(*args,**kwargs):\n",
    "    print(args)\n",
    "    print(kwargs)\n",
    "    print(args[0])\n",
    "    print(kwargs['age'])"
   ]
  },
  {
   "cell_type": "code",
   "execution_count": 32,
   "id": "db3e0c3d",
   "metadata": {},
   "outputs": [
    {
     "name": "stdout",
     "output_type": "stream",
     "text": [
      "('Name', 'Mandar')\n",
      "{'age': 20, 'dob': 2000}\n",
      "Name\n",
      "20\n"
     ]
    }
   ],
   "source": [
    "helllo(\"Name\",\"Mandar\",age = 20 ,dob = 2000)"
   ]
  },
  {
   "cell_type": "code",
   "execution_count": 23,
   "id": "ff157ae7",
   "metadata": {},
   "outputs": [],
   "source": [
    "lst =[\"Name\" , \"Mandar\"]\n",
    "dict = {'age': 20, 'dob': 2000}"
   ]
  },
  {
   "cell_type": "code",
   "execution_count": 24,
   "id": "28a951dc",
   "metadata": {},
   "outputs": [
    {
     "name": "stdout",
     "output_type": "stream",
     "text": [
      "(['Name', 'Mandar'], {'age': 20, 'dob': 2000})\n",
      "{}\n"
     ]
    }
   ],
   "source": [
    "helllo(lst , dict)"
   ]
  },
  {
   "cell_type": "code",
   "execution_count": 25,
   "id": "f1640255",
   "metadata": {},
   "outputs": [
    {
     "name": "stdout",
     "output_type": "stream",
     "text": [
      "('Name', 'Mandar')\n",
      "{'age': 20, 'dob': 2000}\n"
     ]
    }
   ],
   "source": [
    "helllo(*lst,**dict)"
   ]
  },
  {
   "cell_type": "code",
   "execution_count": 26,
   "id": "8aa3cabd",
   "metadata": {},
   "outputs": [
    {
     "name": "stdout",
     "output_type": "stream",
     "text": [
      "[1, 2, 3, 4, 5]\n"
     ]
    }
   ],
   "source": [
    "def lstt(lst):\n",
    "    print(lst)\n",
    "    \n",
    "lstt([1,2,3,4,5])    \n",
    "    "
   ]
  },
  {
   "cell_type": "code",
   "execution_count": 39,
   "id": "dbc62800",
   "metadata": {},
   "outputs": [],
   "source": [
    "def evenoddsum(lst):\n",
    "    even_sum =0 ;\n",
    "    odd_sum =0;\n",
    "    \n",
    "    for i in lst:\n",
    "        if i%2 ==0:\n",
    "            even_sum+=i;\n",
    "        else:\n",
    "            odd_sum+=i;\n",
    "            \n",
    "    return even_sum,odd_sum            "
   ]
  },
  {
   "cell_type": "code",
   "execution_count": 40,
   "id": "47fa521c",
   "metadata": {},
   "outputs": [
    {
     "data": {
      "text/plain": [
       "(6, 9)"
      ]
     },
     "execution_count": 40,
     "metadata": {},
     "output_type": "execute_result"
    }
   ],
   "source": [
    "evenoddsum([1,2,3,4,5])"
   ]
  },
  {
   "cell_type": "markdown",
   "id": "cbaad4ee",
   "metadata": {},
   "source": [
    "<font size =\"4\"><b> Map Functions<font/>"
   ]
  },
  {
   "cell_type": "code",
   "execution_count": 45,
   "id": "82f5eabf",
   "metadata": {},
   "outputs": [],
   "source": [
    "def even_or_odd(num):\n",
    "    if num%2 ==0:\n",
    "        return \"This {} is a even number\".format(num)\n",
    "      \n",
    "    else:\n",
    "        return \"This {} is a odd number\".format(num)\n",
    "    "
   ]
  },
  {
   "cell_type": "code",
   "execution_count": 49,
   "id": "5c418d6e",
   "metadata": {},
   "outputs": [
    {
     "data": {
      "text/plain": [
       "['This 1 is a odd number',\n",
       " 'This 2 is a even number',\n",
       " 'This 3 is a odd number',\n",
       " 'This 4 is a even number',\n",
       " 'This 56 is a even number',\n",
       " 'This 78 is a even number',\n",
       " 'This 23 is a odd number']"
      ]
     },
     "execution_count": 49,
     "metadata": {},
     "output_type": "execute_result"
    }
   ],
   "source": [
    "lst= [1,2,3,4,56,78,23]\n",
    "list(map(even_or_odd,lst))"
   ]
  },
  {
   "cell_type": "markdown",
   "id": "19c77c4b",
   "metadata": {},
   "source": [
    "<font size =\"4\"><b> LAmbda Functions<font/>\n",
    "    "
   ]
  },
  {
   "cell_type": "markdown",
   "id": "797764a6",
   "metadata": {},
   "source": [
    "    anonymous functionns\n",
    "    functions with no names"
   ]
  },
  {
   "cell_type": "code",
   "execution_count": 50,
   "id": "0b1dbc04",
   "metadata": {},
   "outputs": [],
   "source": [
    "def fun(a,b):\n",
    "    return a+b"
   ]
  },
  {
   "cell_type": "code",
   "execution_count": 51,
   "id": "f0167b0a",
   "metadata": {},
   "outputs": [
    {
     "data": {
      "text/plain": [
       "11"
      ]
     },
     "execution_count": 51,
     "metadata": {},
     "output_type": "execute_result"
    }
   ],
   "source": [
    "fun(5,6)"
   ]
  },
  {
   "cell_type": "code",
   "execution_count": 54,
   "id": "0b4d3e2b",
   "metadata": {},
   "outputs": [],
   "source": [
    "addition = lambda a,b:a+b"
   ]
  },
  {
   "cell_type": "code",
   "execution_count": 55,
   "id": "f5c2d972",
   "metadata": {},
   "outputs": [
    {
     "data": {
      "text/plain": [
       "26"
      ]
     },
     "execution_count": 55,
     "metadata": {},
     "output_type": "execute_result"
    }
   ],
   "source": [
    "addition(12,14)"
   ]
  },
  {
   "cell_type": "code",
   "execution_count": 57,
   "id": "bcf3f0d5",
   "metadata": {},
   "outputs": [],
   "source": [
    "def even(num):\n",
    "    if num %2 ==0:\n",
    "        return True"
   ]
  },
  {
   "cell_type": "code",
   "execution_count": 58,
   "id": "36acc885",
   "metadata": {},
   "outputs": [
    {
     "data": {
      "text/plain": [
       "True"
      ]
     },
     "execution_count": 58,
     "metadata": {},
     "output_type": "execute_result"
    }
   ],
   "source": [
    "even(24)"
   ]
  },
  {
   "cell_type": "code",
   "execution_count": 59,
   "id": "78371d28",
   "metadata": {},
   "outputs": [
    {
     "data": {
      "text/plain": [
       "True"
      ]
     },
     "execution_count": 59,
     "metadata": {},
     "output_type": "execute_result"
    }
   ],
   "source": [
    "even = lambda num:num%2 == 0\n",
    "\n",
    "even(2)"
   ]
  },
  {
   "cell_type": "markdown",
   "id": "4f50991b",
   "metadata": {},
   "source": [
    "<font size =\"4\"><b> Filter Functions<font/>\n",
    "    "
   ]
  },
  {
   "cell_type": "code",
   "execution_count": 63,
   "id": "3c1c61b8",
   "metadata": {},
   "outputs": [],
   "source": [
    "def even(num):\n",
    "    if num % 2 ==0:\n",
    "        return True"
   ]
  },
  {
   "cell_type": "code",
   "execution_count": 64,
   "id": "2bbf7b27",
   "metadata": {},
   "outputs": [
    {
     "data": {
      "text/plain": [
       "[2, 4, 6, 18, 42, 20]"
      ]
     },
     "execution_count": 64,
     "metadata": {},
     "output_type": "execute_result"
    }
   ],
   "source": [
    "lst = [1,2,3,4,5,6,18,33,42,77,20]\n",
    "list(filter(even,lst))"
   ]
  },
  {
   "cell_type": "code",
   "execution_count": 67,
   "id": "d1ae710a",
   "metadata": {},
   "outputs": [
    {
     "data": {
      "text/plain": [
       "[2, 4, 6, 18, 42, 20]"
      ]
     },
     "execution_count": 67,
     "metadata": {},
     "output_type": "execute_result"
    }
   ],
   "source": [
    "list(filter(lambda num:num%2==0,lst))"
   ]
  },
  {
   "cell_type": "markdown",
   "id": "64940cac",
   "metadata": {},
   "source": [
    "<font size =\"4\"><b> List Comprehension<font/>"
   ]
  },
  {
   "cell_type": "markdown",
   "id": "b80d8e08",
   "metadata": {},
   "source": [
    "It provides a consise way to create a list. It contais a square bracrates containing an expression followed by a for clause the , zero or more numbers of for or is clause. The expressions can be anything means you ban put any kind of object in the list"
   ]
  },
  {
   "cell_type": "code",
   "execution_count": 70,
   "id": "2d45789e",
   "metadata": {},
   "outputs": [],
   "source": [
    "lst1 =[]\n",
    "def sqrt(lst):\n",
    "    for i in lst:\n",
    "        lst1.append(i*i)\n",
    "    return lst1"
   ]
  },
  {
   "cell_type": "code",
   "execution_count": 73,
   "id": "4017bc14",
   "metadata": {},
   "outputs": [
    {
     "data": {
      "text/plain": [
       "[1, 4, 9, 16, 25]"
      ]
     },
     "execution_count": 73,
     "metadata": {},
     "output_type": "execute_result"
    }
   ],
   "source": [
    "sqrt([1,2,3,4,5])"
   ]
  },
  {
   "cell_type": "code",
   "execution_count": 79,
   "id": "aee4cbba",
   "metadata": {},
   "outputs": [
    {
     "data": {
      "text/plain": [
       "[4, 16]"
      ]
     },
     "execution_count": 79,
     "metadata": {},
     "output_type": "execute_result"
    }
   ],
   "source": [
    "lst = [1,2,3,4,5]\n",
    "lst1 = [i*i for i in lst if i%2 ==0] ##List comprehension statement\n",
    "lst1"
   ]
  },
  {
   "cell_type": "code",
   "execution_count": null,
   "id": "639d932f",
   "metadata": {},
   "outputs": [],
   "source": []
  }
 ],
 "metadata": {
  "kernelspec": {
   "display_name": "Python 3",
   "language": "python",
   "name": "python3"
  },
  "language_info": {
   "codemirror_mode": {
    "name": "ipython",
    "version": 3
   },
   "file_extension": ".py",
   "mimetype": "text/x-python",
   "name": "python",
   "nbconvert_exporter": "python",
   "pygments_lexer": "ipython3",
   "version": "3.8.8"
  }
 },
 "nbformat": 4,
 "nbformat_minor": 5
}
